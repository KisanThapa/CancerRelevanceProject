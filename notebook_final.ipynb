{
 "cells": [
  {
   "cell_type": "code",
   "execution_count": 80,
   "metadata": {},
   "outputs": [],
   "source": [
    "# Import all the necessary libraries\n",
    "from IPython.display import display\n",
    "import matplotlib.pyplot as plt\n",
    "import pandas as pd\n",
    "import numpy as np\n",
    "import warnings\n",
    "\n",
    "# Do not print warnings\n",
    "warnings.filterwarnings('ignore')"
   ]
  },
  {
   "cell_type": "markdown",
   "metadata": {},
   "source": [
    "##### Read the necessary datasets"
   ]
  },
  {
   "cell_type": "code",
   "execution_count": 81,
   "metadata": {},
   "outputs": [],
   "source": [
    "causal_prior = pd.read_csv('data/CausalPriorFiltered.csv')\n",
    "gene_status = pd.read_csv('data/OncoKBCancerGeneList.csv')\n",
    "site_effects = pd.read_csv('data/SiteEffects.csv')"
   ]
  },
  {
   "cell_type": "code",
   "execution_count": 82,
   "metadata": {},
   "outputs": [],
   "source": [
    "def getGeneType(geneName):\n",
    "    ''' This function returns -1 -> Tumor Supressor Gene\n",
    "                                1 -> Oncogene\n",
    "                                0 -> For Both\n",
    "                                -2 -> For Not Both\n",
    "                                -3 -> For Unknown\n",
    "    '''\n",
    "    DownGeneLabel = pd.read_csv('data/OncoKBCancerGeneList.csv')\n",
    "    a = DownGeneLabel.loc[(DownGeneLabel['HugoSymbol']) == (geneName)]\n",
    "\n",
    "    if(a.empty):\n",
    "        return -3\n",
    "\n",
    "    isOncogene = (a['IsOncogene']).iloc[0]\n",
    "    isTumorSupressor = (a['IsTumorSuppressorGene']).iloc[0]\n",
    "\n",
    "    if(isOncogene == 'No' and isTumorSupressor == 'Yes'):\n",
    "        return -1\n",
    "    elif(isOncogene == 'Yes' and isTumorSupressor == 'No'):\n",
    "        return 1\n",
    "    elif(isOncogene == 'Yes' and isTumorSupressor == 'Yes'):\n",
    "        return 0\n",
    "    elif(isOncogene == 'No' and isTumorSupressor == 'No'):\n",
    "        return -2\n",
    "\n",
    "\n",
    "def upstream_gene_status(geneName):\n",
    "    # Return if gene is neither Oncogene or Tumor Supressor\n",
    "    geneType = getGeneType(geneName)\n",
    "    if(geneType == 0 or geneType == -2 or geneType == -3):\n",
    "        print('The gene is neither Oncogene or Tumor Supressor')\n",
    "        return\n",
    "\n",
    "    # Get upstream genes\n",
    "    up_genes = causal_prior[causal_prior['Output'] == geneName]\n",
    "    up_genes.reset_index(drop=True, inplace=True)\n",
    "\n",
    "    # Decode InteractionType to 1 and -1\n",
    "    up_genes['InteractCode'] = 0\n",
    "    up_genes['InteractCode'] = up_genes['InteractionType'].apply(lambda x: 1 if str(x) == 'phosphorylates' or str(x) == 'acetylates' or str(x) == 'methylates' else -1)\n",
    "\n",
    "    # Construct a new column i.e. 'Sites' splitting sites of each gene\n",
    "    up_genes['Sites'] = ''\n",
    "    up_genes['Sites'] = up_genes['Location'].str.split(';')\n",
    "\n",
    "    # Extract site information of that Gene geneName\n",
    "    gene_sites = site_effects[site_effects['HugoSymbol'] == geneName]\n",
    "    gene_sites.reset_index(drop=True, inplace=True)\n",
    "\n",
    "    # Take the Activating or Inhibiting status(1, -1) from gene_sites and put into up_genes['Sites']\n",
    "    up_genes['SiteStatus'] = ''\n",
    "    sites = {}\n",
    "    for index, row in gene_sites.iterrows():\n",
    "        sites[row['Location']] = row['Status']\n",
    "\n",
    "    for index, row in up_genes.iterrows():\n",
    "        temp  = []\n",
    "        for site in row['Sites']:\n",
    "            if(site in sites):\n",
    "                temp.append(sites[site])\n",
    "            else:\n",
    "                temp.append(0)\n",
    "        up_genes.at[index, 'SiteStatus'] = temp\n",
    "\n",
    "    # Add another column for Tumor Suppressor or Oncogene label\n",
    "    up_genes['DownGeneLabel'] = geneType\n",
    "\n",
    "    # Now finally doing computation\n",
    "    up_genes['Result'] = ''\n",
    "    for index, row in up_genes.iterrows():\n",
    "        temp  = []\n",
    "        for site in row['SiteStatus']:\n",
    "            result = int(site) * int(row['InteractCode']) * int(row['DownGeneLabel'])\n",
    "            temp.append(result)\n",
    "\n",
    "        up_genes.at[index, 'Result'] = temp\n",
    "\n",
    "    # Labal genes type\n",
    "    up_genes['RootGeneLabel'] = ''\n",
    "    for index, row in up_genes.iterrows():\n",
    "        up_genes.at[index, 'RootGeneLabel'] = getGeneType(row['Gene'])\n",
    "\n",
    "    return up_genes\n"
   ]
  },
  {
   "cell_type": "code",
   "execution_count": 83,
   "metadata": {},
   "outputs": [],
   "source": [
    "def get_information_from_down_gene(gene):\n",
    "    # Lets get all the downstream gene of gene\n",
    "    down_nodes = causal_prior[causal_prior['Gene'] == gene]\n",
    "    down_nodes.reset_index(drop=True, inplace=True)\n",
    "    \n",
    "    # filter genes which is listed in OncoKBCancerGeneList\n",
    "    col1 = []\n",
    "    col2 = []\n",
    "    for i in down_nodes['Output']:\n",
    "        if(getGeneType(i) == 1 or getGeneType(i) == -1):\n",
    "            col1.append(i)\n",
    "            col2.append(getGeneType(i))\n",
    "    down_known_gene = pd.DataFrame(list(zip(col1, col2)), columns=['Gene', 'Type'])\n",
    "    \n",
    "    # final step is to get status from genes\n",
    "    final_result = pd.DataFrame()\n",
    "    for i in down_known_gene['Gene']:\n",
    "        output = upstream_gene_status(i)\n",
    "        result = output.loc[output['Gene'] == gene]\n",
    "        final_result = final_result.append(result, ignore_index=True)\n",
    "\n",
    "    return final_result"
   ]
  },
  {
   "cell_type": "code",
   "execution_count": 88,
   "metadata": {},
   "outputs": [],
   "source": [
    "output = pd.DataFrame()\n",
    "for gene in gene_status['HugoSymbol']:\n",
    "    output.append(get_information_from_down_gene(gene), ignore_index=True)\n",
    "\n",
    "output"
   ]
  }
 ],
 "metadata": {
  "interpreter": {
   "hash": "38cca0c38332a56087b24af0bc80247f4fced29cb4f7f437d91dc159adec9c4e"
  },
  "kernelspec": {
   "display_name": "Python 3.9.7 ('base')",
   "language": "python",
   "name": "python3"
  },
  "language_info": {
   "codemirror_mode": {
    "name": "ipython",
    "version": 3
   },
   "file_extension": ".py",
   "mimetype": "text/x-python",
   "name": "python",
   "nbconvert_exporter": "python",
   "pygments_lexer": "ipython3",
   "version": "3.9.7"
  },
  "orig_nbformat": 4
 },
 "nbformat": 4,
 "nbformat_minor": 2
}
